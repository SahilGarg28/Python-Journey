{
 "cells": [
  {
   "cell_type": "code",
   "execution_count": 1,
   "id": "7804439b",
   "metadata": {},
   "outputs": [
    {
     "name": "stdout",
     "output_type": "stream",
     "text": [
      "Let's Start new Adventure with Python\n"
     ]
    }
   ],
   "source": [
    "print(\"Let's Start new Adventure with Python\")"
   ]
  },
  {
   "cell_type": "code",
   "execution_count": 6,
   "id": "2f4c7ea0",
   "metadata": {},
   "outputs": [
    {
     "name": "stdout",
     "output_type": "stream",
     "text": [
      "54 is integer value. This is CS50 is String value.\n",
      "54 is integer value. This is CS50 is string value.\n"
     ]
    }
   ],
   "source": [
    "x=54\n",
    "phrase=\"This is CS50\"\n",
    "print(f'{x} is integer value. {phrase} is String value.')\n",
    "print('{} is integer value. {} is string value.'.format(x,phrase))"
   ]
  },
  {
   "cell_type": "code",
   "execution_count": null,
   "id": "0023ba0d",
   "metadata": {},
   "outputs": [],
   "source": [
    "y= 50\n",
    "z=15\n",
    "if y<43"
   ]
  }
 ],
 "metadata": {
  "kernelspec": {
   "display_name": "Python 3 (ipykernel)",
   "language": "python",
   "name": "python3"
  },
  "language_info": {
   "codemirror_mode": {
    "name": "ipython",
    "version": 3
   },
   "file_extension": ".py",
   "mimetype": "text/x-python",
   "name": "python",
   "nbconvert_exporter": "python",
   "pygments_lexer": "ipython3",
   "version": "3.11.4"
  }
 },
 "nbformat": 4,
 "nbformat_minor": 5
}
