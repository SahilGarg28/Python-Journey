{
 "cells": [
  {
   "cell_type": "code",
   "execution_count": 1,
   "id": "4724515c",
   "metadata": {},
   "outputs": [
    {
     "name": "stdout",
     "output_type": "stream",
     "text": [
      "Let's Start new Adventure with Python\n"
     ]
    }
   ],
   "source": [
    "print(\"Let's Start new Adventure with Python\")"
   ]
  },
  {
   "cell_type": "code",
   "execution_count": 6,
   "id": "3a9e7a8b",
   "metadata": {},
   "outputs": [
    {
     "name": "stdout",
     "output_type": "stream",
     "text": [
      "54 is integer value. This is CS50 is String value.\n",
      "54 is integer value. This is CS50 is string value.\n"
     ]
    }
   ],
   "source": [
    "x=54\n",
    "phrase=\"This is CS50\"\n",
    "print(f'{x} is integer value. {phrase} is String value.')\n",
    "print('{} is integer value. {} is string value.'.format(x,phrase))"
   ]
  },
  {
   "cell_type": "code",
   "execution_count": 8,
   "id": "61b76509",
   "metadata": {},
   "outputs": [
    {
     "name": "stdout",
     "output_type": "stream",
     "text": [
      ":(\n"
     ]
    }
   ],
   "source": [
    "y= 50\n",
    "z=25\n",
    "if y<43 or z==15:\n",
    "    print(f'y={y} z={z}')\n",
    "else:\n",
    "    print(':(')"
   ]
  },
  {
   "cell_type": "code",
   "execution_count": 12,
   "id": "358e308b",
   "metadata": {},
   "outputs": [
    {
     "name": "stdout",
     "output_type": "stream",
     "text": [
      "Sad\n"
     ]
    }
   ],
   "source": [
    "coursenum=51\n",
    "if coursenum==50:\n",
    "    print(\"Happy\")\n",
    "elif not coursenum==51:\n",
    "    print(\"Happy Happy\")\n",
    "else:\n",
    "    print(\"Sad\")"
   ]
  },
  {
   "cell_type": "code",
   "execution_count": 14,
   "id": "ed426025",
   "metadata": {},
   "outputs": [
    {
     "name": "stdout",
     "output_type": "stream",
     "text": [
      "'\n",
      "False\n"
     ]
    }
   ],
   "source": [
    "letters_only=True if input().isalpha() else False\n",
    "print(letters_only)"
   ]
  },
  {
   "cell_type": "markdown",
   "id": "f7991e54",
   "metadata": {},
   "source": [
    "# Loops"
   ]
  },
  {
   "cell_type": "markdown",
   "id": "4a0138d8",
   "metadata": {},
   "source": [
    "we only have for and while loops in python"
   ]
  },
  {
   "cell_type": "markdown",
   "id": "2152d387",
   "metadata": {},
   "source": [
    "# while"
   ]
  },
  {
   "cell_type": "code",
   "execution_count": 15,
   "id": "7316de39",
   "metadata": {},
   "outputs": [
    {
     "name": "stdout",
     "output_type": "stream",
     "text": [
      "0\n",
      "1\n",
      "2\n",
      "3\n",
      "4\n",
      "5\n",
      "6\n",
      "7\n",
      "8\n",
      "9\n",
      "10\n",
      "11\n",
      "12\n",
      "13\n",
      "14\n",
      "15\n",
      "16\n",
      "17\n",
      "18\n",
      "19\n",
      "20\n",
      "21\n",
      "22\n",
      "23\n",
      "24\n",
      "25\n",
      "26\n",
      "27\n",
      "28\n",
      "29\n",
      "30\n",
      "31\n",
      "32\n",
      "33\n",
      "34\n",
      "35\n",
      "36\n",
      "37\n",
      "38\n",
      "39\n",
      "40\n",
      "41\n",
      "42\n",
      "43\n",
      "44\n",
      "45\n",
      "46\n",
      "47\n",
      "48\n",
      "49\n",
      "50\n",
      "51\n",
      "52\n",
      "53\n",
      "54\n",
      "55\n",
      "56\n",
      "57\n",
      "58\n",
      "59\n",
      "60\n",
      "61\n",
      "62\n",
      "63\n",
      "64\n",
      "65\n",
      "66\n",
      "67\n",
      "68\n",
      "69\n",
      "70\n",
      "71\n",
      "72\n",
      "73\n",
      "74\n",
      "75\n",
      "76\n",
      "77\n",
      "78\n",
      "79\n",
      "80\n",
      "81\n",
      "82\n",
      "83\n",
      "84\n",
      "85\n",
      "86\n",
      "87\n",
      "88\n",
      "89\n",
      "90\n",
      "91\n",
      "92\n",
      "93\n",
      "94\n",
      "95\n",
      "96\n",
      "97\n",
      "98\n",
      "99\n"
     ]
    }
   ],
   "source": [
    "counter=0\n",
    "while counter<100:\n",
    "    print(counter)\n",
    "    counter+=1"
   ]
  },
  {
   "cell_type": "markdown",
   "id": "c1ecf4af",
   "metadata": {},
   "source": [
    "# for"
   ]
  },
  {
   "cell_type": "code",
   "execution_count": 16,
   "id": "47b44ce1",
   "metadata": {},
   "outputs": [
    {
     "name": "stdout",
     "output_type": "stream",
     "text": [
      "0\n",
      "1\n",
      "2\n",
      "3\n",
      "4\n",
      "5\n",
      "6\n",
      "7\n",
      "8\n",
      "9\n",
      "10\n",
      "11\n",
      "12\n",
      "13\n",
      "14\n",
      "15\n",
      "16\n",
      "17\n",
      "18\n",
      "19\n",
      "20\n",
      "21\n",
      "22\n",
      "23\n",
      "24\n",
      "25\n",
      "26\n",
      "27\n",
      "28\n",
      "29\n",
      "30\n",
      "31\n",
      "32\n",
      "33\n",
      "34\n",
      "35\n",
      "36\n",
      "37\n",
      "38\n",
      "39\n",
      "40\n",
      "41\n",
      "42\n",
      "43\n",
      "44\n",
      "45\n",
      "46\n",
      "47\n",
      "48\n",
      "49\n",
      "50\n",
      "51\n",
      "52\n",
      "53\n",
      "54\n",
      "55\n",
      "56\n",
      "57\n",
      "58\n",
      "59\n",
      "60\n",
      "61\n",
      "62\n",
      "63\n",
      "64\n",
      "65\n",
      "66\n",
      "67\n",
      "68\n",
      "69\n",
      "70\n",
      "71\n",
      "72\n",
      "73\n",
      "74\n",
      "75\n",
      "76\n",
      "77\n",
      "78\n",
      "79\n",
      "80\n",
      "81\n",
      "82\n",
      "83\n",
      "84\n",
      "85\n",
      "86\n",
      "87\n",
      "88\n",
      "89\n",
      "90\n",
      "91\n",
      "92\n",
      "93\n",
      "94\n",
      "95\n",
      "96\n",
      "97\n",
      "98\n",
      "99\n"
     ]
    }
   ],
   "source": [
    "for x in range(100):\n",
    "    print(x)"
   ]
  },
  {
   "cell_type": "code",
   "execution_count": 17,
   "id": "6d2d3265",
   "metadata": {},
   "outputs": [
    {
     "name": "stdout",
     "output_type": "stream",
     "text": [
      "0\n",
      "2\n",
      "4\n",
      "6\n",
      "8\n",
      "10\n",
      "12\n",
      "14\n",
      "16\n",
      "18\n",
      "20\n",
      "22\n",
      "24\n",
      "26\n",
      "28\n",
      "30\n",
      "32\n",
      "34\n",
      "36\n",
      "38\n",
      "40\n",
      "42\n",
      "44\n",
      "46\n",
      "48\n",
      "50\n",
      "52\n",
      "54\n",
      "56\n",
      "58\n",
      "60\n",
      "62\n",
      "64\n",
      "66\n",
      "68\n",
      "70\n",
      "72\n",
      "74\n",
      "76\n",
      "78\n",
      "80\n",
      "82\n",
      "84\n",
      "86\n",
      "88\n",
      "90\n",
      "92\n",
      "94\n",
      "96\n",
      "98\n"
     ]
    }
   ],
   "source": [
    "for x in range(0,100,2):\n",
    "    print(x)"
   ]
  },
  {
   "cell_type": "markdown",
   "id": "52d31baa",
   "metadata": {},
   "source": [
    "# Arrays"
   ]
  },
  {
   "cell_type": "markdown",
   "id": "e0e81556",
   "metadata": {},
   "source": [
    "Python arrays (more appropriately known as Lists) are not fixed in size; they can grow or shrink as needed, and you can always tack extra elements onto your array and splice things in and out easily."
   ]
  },
  {
   "cell_type": "markdown",
   "id": "874d4fa1",
   "metadata": {},
   "source": [
    "Lists []\n",
    "Declaring list is pretty straight forward\n",
    "nums=[]\n",
    "nums=[1,2,3,4]"
   ]
  },
  {
   "cell_type": "markdown",
   "id": "9c4cc71a",
   "metadata": {},
   "source": [
    "list comprehension\n",
    "//[expression for item in iterable if condition]\n",
    "\n",
    "nums=[x for x in range(500)]\n",
    "nums=list()\n",
    "nums=[1,2,3,4]\n",
    "nums.insert(4,5)\n",
    "//[1,2,3,4,5]\n",
    "nums[len(nums):]=[5]\n",
    "//This line of code appends 5 to the list. It uses slicing to insert the element at the end. The slicing syntax nums[len(nums):] selects the portion of the list from the end to the end, effectively appending the new value."
   ]
  },
  {
   "cell_type": "code",
   "execution_count": 19,
   "id": "3203a8ef",
   "metadata": {},
   "outputs": [
    {
     "name": "stdout",
     "output_type": "stream",
     "text": [
      "[1, 2, 3, 4, 5]\n"
     ]
    }
   ],
   "source": [
    "nums = [1, 2, 3, 4]  # Initial list\n",
    "nums[len(nums):] = [5]  # Append 5 using slicing\n",
    "print(nums)"
   ]
  },
  {
   "cell_type": "markdown",
   "id": "ef0d4a37",
   "metadata": {},
   "source": [
    "# Tuples"
   ]
  },
  {
   "cell_type": "markdown",
   "id": "c791790e",
   "metadata": {},
   "source": [
    "python also has a datatype that is not quite like anything comparable to C, a tuple\n",
    "Tuples are ordered, immutable sets of data; they are great for associating collections of data, sort of like struct in C, but where those values are unlikely to change."
   ]
  },
  {
   "cell_type": "code",
   "execution_count": 20,
   "id": "b94f949c",
   "metadata": {},
   "outputs": [
    {
     "name": "stdout",
     "output_type": "stream",
     "text": [
      "In 1789,George Washington took office\n",
      "In 1797,John Adams took office\n",
      "In 1801,Thomas Jefferson took office\n",
      "In 1809,James madison took office\n"
     ]
    }
   ],
   "source": [
    "# Here is the list of tuple\n",
    "presidents=[(\"George Washington\",1789),(\"John Adams\",1797),(\"Thomas Jefferson\",1801),(\"James madison\",1809)]\n",
    "for prez,year in presidents:\n",
    "    print(\"In {1},{0} took office\".format(prez,year))"
   ]
  },
  {
   "cell_type": "code",
   "execution_count": 21,
   "id": "73a25e10",
   "metadata": {},
   "outputs": [
    {
     "name": "stdout",
     "output_type": "stream",
     "text": [
      "In 1789,George Washington took office\n",
      "In 1797,John Adams took office\n",
      "In 1801,Thomas Jefferson took office\n",
      "In 1809,James madison took office\n"
     ]
    }
   ],
   "source": [
    "# Here is the list of tuple\n",
    "presidents=[(\"George Washington\",1789),(\"John Adams\",1797),(\"Thomas Jefferson\",1801),(\"James madison\",1809)]\n",
    "for prez,year in presidents:\n",
    "    print(f\"In {year},{prez} took office\")"
   ]
  }
 ],
 "metadata": {
  "kernelspec": {
   "display_name": "Python 3 (ipykernel)",
   "language": "python",
   "name": "python3"
  },
  "language_info": {
   "codemirror_mode": {
    "name": "ipython",
    "version": 3
   },
   "file_extension": ".py",
   "mimetype": "text/x-python",
   "name": "python",
   "nbconvert_exporter": "python",
   "pygments_lexer": "ipython3",
   "version": "3.11.4"
  }
 },
 "nbformat": 4,
 "nbformat_minor": 5
}
