{
 "cells": [
  {
   "cell_type": "code",
   "execution_count": 1,
   "id": "893a9ea7",
   "metadata": {},
   "outputs": [
    {
     "name": "stdout",
     "output_type": "stream",
     "text": [
      "Let's Start new Adventure with Python\n"
     ]
    }
   ],
   "source": [
    "print(\"Let's Start new Adventure with Python\")"
   ]
  },
  {
   "cell_type": "code",
   "execution_count": 6,
   "id": "399f22f9",
   "metadata": {},
   "outputs": [
    {
     "name": "stdout",
     "output_type": "stream",
     "text": [
      "54 is integer value. This is CS50 is String value.\n",
      "54 is integer value. This is CS50 is string value.\n"
     ]
    }
   ],
   "source": [
    "x=54\n",
    "phrase=\"This is CS50\"\n",
    "print(f'{x} is integer value. {phrase} is String value.')\n",
    "print('{} is integer value. {} is string value.'.format(x,phrase))"
   ]
  },
  {
   "cell_type": "code",
   "execution_count": 8,
   "id": "194417fc",
   "metadata": {},
   "outputs": [
    {
     "name": "stdout",
     "output_type": "stream",
     "text": [
      ":(\n"
     ]
    }
   ],
   "source": [
    "y= 50\n",
    "z=25\n",
    "if y<43 or z==15:\n",
    "    print(f'y={y} z={z}')\n",
    "else:\n",
    "    print(':(')"
   ]
  },
  {
   "cell_type": "code",
   "execution_count": 12,
   "id": "8c86c634",
   "metadata": {},
   "outputs": [
    {
     "name": "stdout",
     "output_type": "stream",
     "text": [
      "Sad\n"
     ]
    }
   ],
   "source": [
    "coursenum=51\n",
    "if coursenum==50:\n",
    "    print(\"Happy\")\n",
    "elif not coursenum==51:\n",
    "    print(\"Happy Happy\")\n",
    "else:\n",
    "    print(\"Sad\")"
   ]
  },
  {
   "cell_type": "code",
   "execution_count": 14,
   "id": "76cf4a46",
   "metadata": {},
   "outputs": [
    {
     "name": "stdout",
     "output_type": "stream",
     "text": [
      "'\n",
      "False\n"
     ]
    }
   ],
   "source": [
    "letters_only=True if input().isalpha() else False\n",
    "print(letters_only)"
   ]
  }
 ],
 "metadata": {
  "kernelspec": {
   "display_name": "Python 3 (ipykernel)",
   "language": "python",
   "name": "python3"
  },
  "language_info": {
   "codemirror_mode": {
    "name": "ipython",
    "version": 3
   },
   "file_extension": ".py",
   "mimetype": "text/x-python",
   "name": "python",
   "nbconvert_exporter": "python",
   "pygments_lexer": "ipython3",
   "version": "3.11.4"
  }
 },
 "nbformat": 4,
 "nbformat_minor": 5
}
