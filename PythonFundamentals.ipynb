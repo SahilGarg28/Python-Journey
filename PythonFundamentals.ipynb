{
 "cells": [
  {
   "cell_type": "code",
   "execution_count": 1,
   "id": "d5e6c553",
   "metadata": {},
   "outputs": [
    {
     "name": "stdout",
     "output_type": "stream",
     "text": [
      "Let's Start new Adventure with Python\n"
     ]
    }
   ],
   "source": [
    "print(\"Let's Start new Adventure with Python\")"
   ]
  },
  {
   "cell_type": "code",
   "execution_count": 6,
   "id": "5d9b2557",
   "metadata": {},
   "outputs": [
    {
     "name": "stdout",
     "output_type": "stream",
     "text": [
      "54 is integer value. This is CS50 is String value.\n",
      "54 is integer value. This is CS50 is string value.\n"
     ]
    }
   ],
   "source": [
    "x=54\n",
    "phrase=\"This is CS50\"\n",
    "print(f'{x} is integer value. {phrase} is String value.')\n",
    "print('{} is integer value. {} is string value.'.format(x,phrase))"
   ]
  },
  {
   "cell_type": "code",
   "execution_count": 8,
   "id": "fb125f48",
   "metadata": {},
   "outputs": [
    {
     "name": "stdout",
     "output_type": "stream",
     "text": [
      ":(\n"
     ]
    }
   ],
   "source": [
    "y= 50\n",
    "z=25\n",
    "if y<43 or z==15:\n",
    "    print(f'y={y} z={z}')\n",
    "else:\n",
    "    print(':(')"
   ]
  },
  {
   "cell_type": "code",
   "execution_count": 9,
   "id": "7c2bc64f",
   "metadata": {},
   "outputs": [
    {
     "name": "stdout",
     "output_type": "stream",
     "text": [
      "Happy\n"
     ]
    }
   ],
   "source": [
    "coursenum=50\n",
    "if coursenum==50:\n",
    "    print(\"Happy\")\n",
    "elif not coursenum==51:\n",
    "    print(\"Happy\")\n",
    "else:\n",
    "    print(\"Sad\")"
   ]
  },
  {
   "cell_type": "code",
   "execution_count": null,
   "id": "5464dd8d",
   "metadata": {},
   "outputs": [],
   "source": []
  }
 ],
 "metadata": {
  "kernelspec": {
   "display_name": "Python 3 (ipykernel)",
   "language": "python",
   "name": "python3"
  },
  "language_info": {
   "codemirror_mode": {
    "name": "ipython",
    "version": 3
   },
   "file_extension": ".py",
   "mimetype": "text/x-python",
   "name": "python",
   "nbconvert_exporter": "python",
   "pygments_lexer": "ipython3",
   "version": "3.11.4"
  }
 },
 "nbformat": 4,
 "nbformat_minor": 5
}
