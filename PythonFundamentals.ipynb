{
 "cells": [
  {
   "cell_type": "code",
   "execution_count": 1,
   "id": "11b93ec7",
   "metadata": {},
   "outputs": [
    {
     "name": "stdout",
     "output_type": "stream",
     "text": [
      "Let's Start new Adventure with Python\n"
     ]
    }
   ],
   "source": [
    "print(\"Let's Start new Adventure with Python\")"
   ]
  },
  {
   "cell_type": "code",
   "execution_count": 5,
   "id": "d5d17987",
   "metadata": {},
   "outputs": [
    {
     "name": "stdout",
     "output_type": "stream",
     "text": [
      "54 is integer value. This is CS50 is String value.\n"
     ]
    }
   ],
   "source": [
    "x=54\n",
    "phrase=\"This is CS50\"\n",
    "print(f'{x} is integer value. {phrase} is String value.')\n",
    "print('{x} is integer value')"
   ]
  }
 ],
 "metadata": {
  "kernelspec": {
   "display_name": "Python 3 (ipykernel)",
   "language": "python",
   "name": "python3"
  },
  "language_info": {
   "codemirror_mode": {
    "name": "ipython",
    "version": 3
   },
   "file_extension": ".py",
   "mimetype": "text/x-python",
   "name": "python",
   "nbconvert_exporter": "python",
   "pygments_lexer": "ipython3",
   "version": "3.11.4"
  }
 },
 "nbformat": 4,
 "nbformat_minor": 5
}
